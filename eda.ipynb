{
 "cells": [
  {
   "cell_type": "markdown",
   "metadata": {},
   "source": [
    "Document: [PySpark API](https://spark.apache.org/docs/latest/api/python/index.html)"
   ]
  },
  {
   "cell_type": "code",
   "execution_count": null,
   "metadata": {},
   "outputs": [],
   "source": [
    "%matplotlib inline"
   ]
  },
  {
   "cell_type": "code",
   "execution_count": null,
   "metadata": {},
   "outputs": [],
   "source": [
    "import pypio\n",
    "\n",
    "from pyspark.sql.functions import col\n",
    "from pyspark.sql.functions import explode\n",
    "from pyspark.ml.feature import StringIndexer\n",
    "from pyspark.ml.feature import IndexToString\n",
    "from pyspark.ml.feature import VectorAssembler\n",
    "from pyspark.ml.evaluation import RegressionEvaluator\n",
    "from pyspark.ml.regression import DecisionTreeRegressor\n",
    "from pyspark.ml.regression import RandomForestRegressor\n",
    "from pyspark.ml.regression import LinearRegression\n",
    "from pyspark.ml.regression import GBTRegressor\n",
    "from pyspark.ml.regression import GeneralizedLinearRegression\n",
    "from pyspark.ml.feature import StandardScaler\n",
    "from pyspark.ml import Pipeline\n",
    "from pyspark.ml.evaluation import MulticlassClassificationEvaluator\n"
   ]
  },
  {
   "cell_type": "markdown",
   "metadata": {},
   "source": [
    "## Initialize PIO"
   ]
  },
  {
   "cell_type": "code",
   "execution_count": null,
   "metadata": {},
   "outputs": [],
   "source": [
    "pypio.init()\n",
    "# tasks in init(event_server='localhost:7070', app_name=None) are as below:\n",
    "# 1. Check if Event Server runs (localhost:7070)\n",
    "# 1a. If not running: pio eventserver\n",
    "# 2. Check if app is created\n",
    "# 2a. If app does not exist: pio app new ...\n",
    "# 3. Create SparkSession and somethings..."
   ]
  },
  {
   "cell_type": "markdown",
   "metadata": {},
   "source": [
    "## Import Data from File"
   ]
  },
  {
   "cell_type": "code",
   "execution_count": null,
   "metadata": {},
   "outputs": [],
   "source": [
    "pypio.import_file('https://raw.githubusercontent.com/scikit-learn/scikit-learn/0.19.0/sklearn/datasets/data/boston_house_prices.csv')"
   ]
  },
  {
   "cell_type": "markdown",
   "metadata": {},
   "source": [
    "## Load Data from PIO"
   ]
  },
  {
   "cell_type": "code",
   "execution_count": null,
   "metadata": {},
   "outputs": [],
   "source": [
    "event_df = p_event_store.find('BHPApp')"
   ]
  },
  {
   "cell_type": "code",
   "execution_count": null,
   "metadata": {},
   "outputs": [],
   "source": [
    "event_df.show(5)"
   ]
  },
  {
   "cell_type": "markdown",
   "metadata": {},
   "source": [
    "## Preprocessing"
   ]
  },
  {
   "cell_type": "code",
   "execution_count": null,
   "metadata": {},
   "outputs": [],
   "source": [
    "def get_field_type(name):\n",
    "    return 'double'\n",
    "\n",
    "field_names = (event_df\n",
    "            .select(explode(\"fields\"))\n",
    "            .select(\"key\")\n",
    "            .distinct()\n",
    "            .rdd.flatMap(lambda x: x)\n",
    "            .collect())\n",
    "field_names.sort()\n",
    "exprs = [col(\"fields\").getItem(k).cast(get_field_type(k)).alias(k) for k in field_names]\n",
    "data_df = event_df.select(*exprs)\n",
    "data_df = data_df.withColumnRenamed(\"MEDV\", \"label\")"
   ]
  },
  {
   "cell_type": "code",
   "execution_count": null,
   "metadata": {},
   "outputs": [],
   "source": [
    "data_df.show(5)"
   ]
  },
  {
   "cell_type": "markdown",
   "metadata": {},
   "source": [
    "## Pandas (EDA...)"
   ]
  },
  {
   "cell_type": "code",
   "execution_count": null,
   "metadata": {},
   "outputs": [],
   "source": [
    "p_data_df = data_df.toPandas()"
   ]
  },
  {
   "cell_type": "code",
   "execution_count": null,
   "metadata": {},
   "outputs": [],
   "source": [
    "import matplotlib.pyplot as plt\n",
    "from pandas.plotting import scatter_matrix\n",
    "scatter_matrix(p_data_df, diagonal='kde', color='k', alpha=0.3)\n",
    "\n",
    "plt.show()"
   ]
  },
  {
   "cell_type": "markdown",
   "metadata": {},
   "source": [
    "## Train"
   ]
  },
  {
   "cell_type": "code",
   "execution_count": null,
   "metadata": {},
   "outputs": [],
   "source": [
    "(train_df, test_df) = data_df.randomSplit([0.9, 0.1])\n"
   ]
  },
  {
   "cell_type": "code",
   "execution_count": null,
   "metadata": {},
   "outputs": [],
   "source": [
    "featureAssembler = VectorAssembler(inputCols=[x for x in field_names if x != 'MEDV'],\n",
    "                                   outputCol=\"rawFeatures\")\n",
    "scaler = StandardScaler(inputCol=\"rawFeatures\", outputCol=\"features\")\n",
    "# TODO NPE\n",
    "# clf = DecisionTreeRegressor(featuresCol=\"features\", labelCol=\"label\", predictionCol=\"prediction\",\n",
    "#                             maxDepth=5, maxBins=32, minInstancesPerNode=1, minInfoGain=0.0,\n",
    "#                             maxMemoryInMB=256, cacheNodeIds=False, checkpointInterval=10,\n",
    "#                             impurity=\"variance\", seed=None, varianceCol=None)\n",
    "# clf = DecisionTreeRegressor()\n",
    "clf = RandomForestRegressor(featuresCol=\"features\", labelCol=\"label\", predictionCol=\"prediction\",\n",
    "                            maxDepth=5, maxBins=32, minInstancesPerNode=1, minInfoGain=0.0,\n",
    "                            maxMemoryInMB=256, cacheNodeIds=False, checkpointInterval=10,\n",
    "                            impurity=\"variance\", subsamplingRate=1.0, seed=None, numTrees=20,\n",
    "                            featureSubsetStrategy=\"auto\")\n",
    "# TODO NPE\n",
    "# clf = LinearRegression(featuresCol=\"features\", labelCol=\"label\", predictionCol=\"prediction\",\n",
    "#                        maxIter=100, regParam=0.0, elasticNetParam=0.0, tol=1e-6, fitIntercept=True,\n",
    "#                        standardization=True, solver=\"auto\", weightCol=None, aggregationDepth=2)\n",
    "# clf = LinearRegression()\n",
    "# clf = GBTRegressor(featuresCol=\"features\", labelCol=\"label\", predictionCol=\"prediction\",\n",
    "#                    maxDepth=5, maxBins=32, minInstancesPerNode=1, minInfoGain=0.0, maxMemoryInMB=256,\n",
    "#                    cacheNodeIds=False, subsamplingRate=1.0, checkpointInterval=10, lossType=\"squared\",\n",
    "#                    maxIter=20, stepSize=0.1, seed=None\n",
    "# TODO NPE\n",
    "# clf = GeneralizedLinearRegression(labelCol=\"label\", featuresCol=\"features\", predictionCol=\"prediction\",\n",
    "#                                   family=\"gaussian\", link=None, fitIntercept=True, maxIter=25, tol=1e-6,\n",
    "#                                   regParam=0.0, weightCol=None, solver=\"irls\", linkPredictionCol=None)\n",
    "# clf = GeneralizedLinearRegression()\n",
    "pipeline = Pipeline(stages=[featureAssembler, scaler, clf])\n"
   ]
  },
  {
   "cell_type": "code",
   "execution_count": null,
   "metadata": {},
   "outputs": [],
   "source": [
    "model = pipeline.fit(train_df)\n"
   ]
  },
  {
   "cell_type": "markdown",
   "metadata": {},
   "source": [
    "## Evaluation"
   ]
  },
  {
   "cell_type": "code",
   "execution_count": null,
   "metadata": {},
   "outputs": [],
   "source": [
    "predict_df = model.transform(test_df)\n"
   ]
  },
  {
   "cell_type": "code",
   "execution_count": null,
   "metadata": {},
   "outputs": [],
   "source": [
    "predict_df.select(\"prediction\", \"label\").show(5)\n"
   ]
  },
  {
   "cell_type": "code",
   "execution_count": null,
   "metadata": {},
   "outputs": [],
   "source": [
    "evaluator = RegressionEvaluator(labelCol=\"label\", predictionCol=\"prediction\", metricName=\"rmse\")\n",
    "rmse = evaluator.evaluate(predict_df)\n",
    "print(\"Root Mean Squared Error (RMSE) on test data = %g\" % rmse)\n"
   ]
  },
  {
   "cell_type": "markdown",
   "metadata": {},
   "source": [
    "## Save"
   ]
  },
  {
   "cell_type": "code",
   "execution_count": null,
   "metadata": {},
   "outputs": [],
   "source": [
    "pypio.save_model(model)"
   ]
  }
 ],
 "metadata": {
  "kernelspec": {
   "display_name": "Python 3",
   "language": "python",
   "name": "python3"
  },
  "language_info": {
   "codemirror_mode": {
    "name": "ipython",
    "version": 3
   },
   "file_extension": ".py",
   "mimetype": "text/x-python",
   "name": "python",
   "nbconvert_exporter": "python",
   "pygments_lexer": "ipython3",
   "version": "3.6.6"
  }
 },
 "nbformat": 4,
 "nbformat_minor": 2
}
